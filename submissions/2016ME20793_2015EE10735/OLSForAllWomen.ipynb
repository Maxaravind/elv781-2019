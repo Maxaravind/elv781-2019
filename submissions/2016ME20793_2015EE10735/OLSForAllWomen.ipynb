{
 "cells": [
  {
   "cell_type": "code",
   "execution_count": 1,
   "metadata": {},
   "outputs": [],
   "source": [
    "import pandas as ps\n",
    "import numpy as np\n",
    "import scipy\n",
    "from linearmodels.panel import PooledOLS\n",
    "import statsmodels.api as sm"
   ]
  },
  {
   "cell_type": "code",
   "execution_count": 3,
   "metadata": {},
   "outputs": [],
   "source": [
    "df = ps.read_csv(\"AllWomanData.csv\",index_col=0)\n"
   ]
  },
  {
   "cell_type": "code",
   "execution_count": 7,
   "metadata": {},
   "outputs": [
    {
     "data": {
      "text/plain": [
       "['AGEM',\n",
       " 'AGEFSTM',\n",
       " 'EDUCM',\n",
       " 'WHITEM',\n",
       " 'BLACKM',\n",
       " 'HISPM',\n",
       " 'OTHRACEM',\n",
       " 'W',\n",
       " 'WEEKSM',\n",
       " 'HOURSWM',\n",
       " 'INCOMEM',\n",
       " 'WORKEDM',\n",
       " 'AGED',\n",
       " 'FAMINC',\n",
       " 'LOGFAMINC']"
      ]
     },
     "execution_count": 7,
     "metadata": {},
     "output_type": "execute_result"
    }
   ],
   "source": [
    "df.columns.tolist()"
   ]
  },
  {
   "cell_type": "code",
   "execution_count": 9,
   "metadata": {},
   "outputs": [
    {
     "data": {
      "text/plain": [
       "AGEM            31.460327\n",
       "AGEFSTM         21.817803\n",
       "EDUCM           12.447828\n",
       "WHITEM           0.824000\n",
       "BLACKM           0.117347\n",
       "HISPM            0.026503\n",
       "OTHRACEM         0.032150\n",
       "W                0.270864\n",
       "WEEKSM          23.243626\n",
       "HOURSWM         20.621113\n",
       "INCOMEM       8689.202321\n",
       "WORKEDM          0.609795\n",
       "AGED            34.360296\n",
       "FAMINC       44709.663886\n",
       "LOGFAMINC       10.367893\n",
       "dtype: float64"
      ]
     },
     "execution_count": 9,
     "metadata": {},
     "output_type": "execute_result"
    }
   ],
   "source": [
    "df.mean()"
   ]
  },
  {
   "cell_type": "code",
   "execution_count": 10,
   "metadata": {},
   "outputs": [
    {
     "data": {
      "text/plain": [
       "AGEM             6.154047\n",
       "AGEFSTM          4.372048\n",
       "EDUCM            2.562045\n",
       "WHITEM           0.380820\n",
       "BLACKM           0.321833\n",
       "HISPM            0.160625\n",
       "OTHRACEM         0.176399\n",
       "W                0.444406\n",
       "WEEKSM          22.615174\n",
       "HOURSWM         18.971773\n",
       "INCOMEM      12170.576603\n",
       "WORKEDM          0.487796\n",
       "AGED             7.151865\n",
       "FAMINC       28923.731199\n",
       "LOGFAMINC        1.334295\n",
       "dtype: float64"
      ]
     },
     "execution_count": 10,
     "metadata": {},
     "output_type": "execute_result"
    }
   ],
   "source": [
    "df.std()"
   ]
  },
  {
   "cell_type": "code",
   "execution_count": 12,
   "metadata": {},
   "outputs": [],
   "source": [
    "def getOLSResult(key,dataFrame,x_variables):\n",
    "    x=dataFrame[x_variables].values\n",
    "    x=np.append(x,np.ones([x.shape[0],1]),axis=1)\n",
    "    y = dataFrame[[key]].values\n",
    "    print(x.shape,y.shape)\n",
    "    results = sm.OLS(y, x).fit()\n",
    "    return results"
   ]
  },
  {
   "cell_type": "code",
   "execution_count": 13,
   "metadata": {},
   "outputs": [
    {
     "name": "stdout",
     "output_type": "stream",
     "text": [
      "(927267, 8) (927267, 1)\n",
      "                            OLS Regression Results                            \n",
      "==============================================================================\n",
      "Dep. Variable:                      y   R-squared:                       0.041\n",
      "Model:                            OLS   Adj. R-squared:                  0.041\n",
      "Method:                 Least Squares   F-statistic:                     6600.\n",
      "Date:                Tue, 23 Apr 2019   Prob (F-statistic):               0.00\n",
      "Time:                        16:27:06   Log-Likelihood:            -4.1881e+06\n",
      "No. Observations:              927267   AIC:                         8.376e+06\n",
      "Df Residuals:                  927260   BIC:                         8.376e+06\n",
      "Df Model:                           6                                         \n",
      "Covariance Type:            nonrobust                                         \n",
      "==============================================================================\n",
      "                 coef    std err          t      P>|t|      [0.025      0.975]\n",
      "------------------------------------------------------------------------------\n",
      "x1             0.6563      0.005    135.672      0.000       0.647       0.666\n",
      "x2            -0.8277      0.007   -116.668      0.000      -0.842      -0.814\n",
      "x3             1.2219      0.010    127.676      0.000       1.203       1.241\n",
      "x4            -0.6296      0.058    -10.805      0.000      -0.744      -0.515\n",
      "x5             4.8529      0.072     66.966      0.000       4.711       4.995\n",
      "x6            -0.5230      0.119     -4.408      0.000      -0.756      -0.290\n",
      "x7             1.6525      0.115     14.412      0.000       1.428       1.877\n",
      "const          5.3526      0.128     41.973      0.000       5.103       5.603\n",
      "==============================================================================\n",
      "Omnibus:                     5208.638   Durbin-Watson:                   1.906\n",
      "Prob(Omnibus):                  0.000   Jarque-Bera (JB):           104326.876\n",
      "Skew:                           0.185   Prob(JB):                         0.00\n",
      "Kurtosis:                       1.399   Cond. No.                     3.19e+16\n",
      "==============================================================================\n",
      "\n",
      "Warnings:\n",
      "[1] Standard Errors assume that the covariance matrix of the errors is correctly specified.\n",
      "[2] The smallest eigenvalue is 1.52e-24. This might indicate that there are\n",
      "strong multicollinearity problems or that the design matrix is singular.\n"
     ]
    }
   ],
   "source": [
    "results = getOLSResult('WEEKSM',df,['AGEM','AGEFSTM','EDUCM','WHITEM','BLACKM','HISPM','OTHRACEM'])\n",
    "print(results.summary())"
   ]
  },
  {
   "cell_type": "code",
   "execution_count": 14,
   "metadata": {},
   "outputs": [
    {
     "name": "stdout",
     "output_type": "stream",
     "text": [
      "(927267, 8) (927267, 1)\n",
      "                            OLS Regression Results                            \n",
      "==============================================================================\n",
      "Dep. Variable:                      y   R-squared:                       0.028\n",
      "Model:                            OLS   Adj. R-squared:                  0.028\n",
      "Method:                 Least Squares   F-statistic:                     4485.\n",
      "Date:                Tue, 23 Apr 2019   Prob (F-statistic):               0.00\n",
      "Time:                        16:27:30   Log-Likelihood:            -4.0314e+06\n",
      "No. Observations:              927267   AIC:                         8.063e+06\n",
      "Df Residuals:                  927260   BIC:                         8.063e+06\n",
      "Df Model:                           6                                         \n",
      "Covariance Type:            nonrobust                                         \n",
      "==============================================================================\n",
      "                 coef    std err          t      P>|t|      [0.025      0.975]\n",
      "------------------------------------------------------------------------------\n",
      "x1             0.3064      0.004     75.013      0.000       0.298       0.314\n",
      "x2            -0.6642      0.006   -110.871      0.000      -0.676      -0.652\n",
      "x3             0.8300      0.008    102.697      0.000       0.814       0.846\n",
      "x4             0.9876      0.049     20.070      0.000       0.891       1.084\n",
      "x5             6.0229      0.061     98.421      0.000       5.903       6.143\n",
      "x6             2.1151      0.100     21.109      0.000       1.919       2.311\n",
      "x7             4.2997      0.097     44.407      0.000       4.110       4.489\n",
      "const         13.4253      0.108    124.666      0.000      13.214      13.636\n",
      "==============================================================================\n",
      "Omnibus:                   351027.079   Durbin-Watson:                   1.893\n",
      "Prob(Omnibus):                  0.000   Jarque-Bera (JB):            50675.477\n",
      "Skew:                           0.185   Prob(JB):                         0.00\n",
      "Kurtosis:                       1.916   Cond. No.                     3.19e+16\n",
      "==============================================================================\n",
      "\n",
      "Warnings:\n",
      "[1] Standard Errors assume that the covariance matrix of the errors is correctly specified.\n",
      "[2] The smallest eigenvalue is 1.52e-24. This might indicate that there are\n",
      "strong multicollinearity problems or that the design matrix is singular.\n"
     ]
    }
   ],
   "source": [
    "results = getOLSResult('HOURSWM',df,['AGEM','AGEFSTM','EDUCM','WHITEM','BLACKM','HISPM','OTHRACEM'])\n",
    "print(results.summary())"
   ]
  },
  {
   "cell_type": "code",
   "execution_count": 15,
   "metadata": {},
   "outputs": [
    {
     "name": "stdout",
     "output_type": "stream",
     "text": [
      "(927267, 8) (927267, 1)\n",
      "                            OLS Regression Results                            \n",
      "==============================================================================\n",
      "Dep. Variable:                      y   R-squared:                       0.032\n",
      "Model:                            OLS   Adj. R-squared:                  0.032\n",
      "Method:                 Least Squares   F-statistic:                     5036.\n",
      "Date:                Tue, 23 Apr 2019   Prob (F-statistic):               0.00\n",
      "Time:                        16:27:51   Log-Likelihood:            -6.3522e+05\n",
      "No. Observations:              927267   AIC:                         1.270e+06\n",
      "Df Residuals:                  927260   BIC:                         1.271e+06\n",
      "Df Model:                           6                                         \n",
      "Covariance Type:            nonrobust                                         \n",
      "==============================================================================\n",
      "                 coef    std err          t      P>|t|      [0.025      0.975]\n",
      "------------------------------------------------------------------------------\n",
      "x1             0.0082      0.000     78.667      0.000       0.008       0.008\n",
      "x2            -0.0163      0.000   -105.685      0.000      -0.017      -0.016\n",
      "x3             0.0291      0.000    140.406      0.000       0.029       0.030\n",
      "x4             0.0431      0.001     34.128      0.000       0.041       0.046\n",
      "x5             0.1299      0.002     82.714      0.000       0.127       0.133\n",
      "x6             0.0431      0.003     16.763      0.000       0.038       0.048\n",
      "x7             0.0719      0.002     28.947      0.000       0.067       0.077\n",
      "const          0.2881      0.003    104.219      0.000       0.283       0.293\n",
      "==============================================================================\n",
      "Omnibus:                    25930.248   Durbin-Watson:                   1.914\n",
      "Prob(Omnibus):                  0.000   Jarque-Bera (JB):           138213.502\n",
      "Skew:                          -0.427   Prob(JB):                         0.00\n",
      "Kurtosis:                       1.312   Cond. No.                     3.19e+16\n",
      "==============================================================================\n",
      "\n",
      "Warnings:\n",
      "[1] Standard Errors assume that the covariance matrix of the errors is correctly specified.\n",
      "[2] The smallest eigenvalue is 1.52e-24. This might indicate that there are\n",
      "strong multicollinearity problems or that the design matrix is singular.\n"
     ]
    }
   ],
   "source": [
    "results = getOLSResult('WORKEDM',df,['AGEM','AGEFSTM','EDUCM','WHITEM','BLACKM','HISPM','OTHRACEM'])\n",
    "print(results.summary())"
   ]
  },
  {
   "cell_type": "code",
   "execution_count": 16,
   "metadata": {},
   "outputs": [
    {
     "name": "stdout",
     "output_type": "stream",
     "text": [
      "(927267, 8) (927267, 1)\n",
      "                            OLS Regression Results                            \n",
      "==============================================================================\n",
      "Dep. Variable:                      y   R-squared:                       0.067\n",
      "Model:                            OLS   Adj. R-squared:                  0.067\n",
      "Method:                 Least Squares   F-statistic:                 1.108e+04\n",
      "Date:                Tue, 23 Apr 2019   Prob (F-statistic):               0.00\n",
      "Time:                        16:28:10   Log-Likelihood:            -1.0006e+07\n",
      "No. Observations:              927267   AIC:                         2.001e+07\n",
      "Df Residuals:                  927260   BIC:                         2.001e+07\n",
      "Df Model:                           6                                         \n",
      "Covariance Type:            nonrobust                                         \n",
      "==============================================================================\n",
      "                 coef    std err          t      P>|t|      [0.025      0.975]\n",
      "------------------------------------------------------------------------------\n",
      "x1           324.0415      2.568    126.184      0.000     319.008     329.075\n",
      "x2          -260.2039      3.766    -69.096      0.000    -267.585    -252.823\n",
      "x3          1004.5832      5.080    197.742      0.000     994.626    1014.540\n",
      "x4         -3391.0239     30.932   -109.630      0.000   -3451.649   -3330.399\n",
      "x5           274.4197     38.468      7.134      0.000     199.024     349.816\n",
      "x6         -1854.1318     62.986    -29.437      0.000   -1977.583   -1730.681\n",
      "x7          -534.0068     60.865     -8.774      0.000    -653.300    -414.713\n",
      "const      -5504.7428     67.696    -81.316      0.000   -5637.424   -5372.062\n",
      "==============================================================================\n",
      "Omnibus:                   613242.590   Durbin-Watson:                   1.926\n",
      "Prob(Omnibus):                  0.000   Jarque-Bera (JB):         18716913.151\n",
      "Skew:                           2.744   Prob(JB):                         0.00\n",
      "Kurtosis:                      24.315   Cond. No.                     3.19e+16\n",
      "==============================================================================\n",
      "\n",
      "Warnings:\n",
      "[1] Standard Errors assume that the covariance matrix of the errors is correctly specified.\n",
      "[2] The smallest eigenvalue is 1.52e-24. This might indicate that there are\n",
      "strong multicollinearity problems or that the design matrix is singular.\n"
     ]
    }
   ],
   "source": [
    "results = getOLSResult('INCOMEM',df,['AGEM','AGEFSTM','EDUCM','WHITEM','BLACKM','HISPM','OTHRACEM'])\n",
    "print(results.summary())"
   ]
  },
  {
   "cell_type": "code",
   "execution_count": 17,
   "metadata": {},
   "outputs": [
    {
     "name": "stdout",
     "output_type": "stream",
     "text": [
      "(927267, 8) (927267, 1)\n",
      "                            OLS Regression Results                            \n",
      "==============================================================================\n",
      "Dep. Variable:                      y   R-squared:                       0.083\n",
      "Model:                            OLS   Adj. R-squared:                  0.083\n",
      "Method:                 Least Squares   F-statistic:                 1.390e+04\n",
      "Date:                Tue, 23 Apr 2019   Prob (F-statistic):               0.00\n",
      "Time:                        16:28:40   Log-Likelihood:            -1.5432e+06\n",
      "No. Observations:              927267   AIC:                         3.086e+06\n",
      "Df Residuals:                  927260   BIC:                         3.087e+06\n",
      "Df Model:                           6                                         \n",
      "Covariance Type:            nonrobust                                         \n",
      "==============================================================================\n",
      "                 coef    std err          t      P>|t|      [0.025      0.975]\n",
      "------------------------------------------------------------------------------\n",
      "x1             0.0286      0.000    102.563      0.000       0.028       0.029\n",
      "x2            -0.0072      0.000    -17.709      0.000      -0.008      -0.006\n",
      "x3             0.0963      0.001    174.392      0.000       0.095       0.097\n",
      "x4             1.9150      0.003    569.506      0.000       1.908       1.922\n",
      "x5             1.3126      0.004    313.888      0.000       1.304       1.321\n",
      "x6             1.6062      0.007    234.581      0.000       1.593       1.620\n",
      "x7             1.7614      0.007    266.207      0.000       1.748       1.774\n",
      "const          6.5952      0.007    896.197      0.000       6.581       6.610\n",
      "==============================================================================\n",
      "Omnibus:                   985524.085   Durbin-Watson:                   1.897\n",
      "Prob(Omnibus):                  0.000   Jarque-Bera (JB):         66233619.601\n",
      "Skew:                          -5.486   Prob(JB):                         0.00\n",
      "Kurtosis:                      42.924   Cond. No.                     3.19e+16\n",
      "==============================================================================\n",
      "\n",
      "Warnings:\n",
      "[1] Standard Errors assume that the covariance matrix of the errors is correctly specified.\n",
      "[2] The smallest eigenvalue is 1.52e-24. This might indicate that there are\n",
      "strong multicollinearity problems or that the design matrix is singular.\n"
     ]
    }
   ],
   "source": [
    "results = getOLSResult('LOGFAMINC',df,['AGEM','AGEFSTM','EDUCM','WHITEM','BLACKM','HISPM','OTHRACEM'])\n",
    "print(results.summary())"
   ]
  },
  {
   "cell_type": "code",
   "execution_count": null,
   "metadata": {},
   "outputs": [],
   "source": []
  }
 ],
 "metadata": {
  "kernelspec": {
   "display_name": "Python 3",
   "language": "python",
   "name": "python3"
  },
  "language_info": {
   "codemirror_mode": {
    "name": "ipython",
    "version": 3
   },
   "file_extension": ".py",
   "mimetype": "text/x-python",
   "name": "python",
   "nbconvert_exporter": "python",
   "pygments_lexer": "ipython3",
   "version": "3.6.5"
  }
 },
 "nbformat": 4,
 "nbformat_minor": 2
}
