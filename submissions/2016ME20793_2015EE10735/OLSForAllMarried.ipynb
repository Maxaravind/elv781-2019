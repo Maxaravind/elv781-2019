{
 "cells": [
  {
   "cell_type": "code",
   "execution_count": 1,
   "metadata": {},
   "outputs": [],
   "source": [
    "import pandas as ps\n",
    "import numpy as np\n",
    "import scipy\n",
    "from linearmodels.panel import PooledOLS\n",
    "import statsmodels.api as sm"
   ]
  },
  {
   "cell_type": "code",
   "execution_count": 23,
   "metadata": {},
   "outputs": [],
   "source": [
    "df = ps.read_csv(\"marriedData.csv\",index_col=0)\n"
   ]
  },
  {
   "cell_type": "code",
   "execution_count": 3,
   "metadata": {},
   "outputs": [
    {
     "data": {
      "text/plain": [
       "['AGED',\n",
       " 'AGEFSTD',\n",
       " 'EDUCD',\n",
       " 'WHITED',\n",
       " 'BLACKD',\n",
       " 'HISPD',\n",
       " 'OTHRACED',\n",
       " 'W',\n",
       " 'WEEKSM',\n",
       " 'WEEKSD',\n",
       " 'HOURSWD',\n",
       " 'INCOMED',\n",
       " 'WORKEDM',\n",
       " 'AGEM',\n",
       " 'AGEFSTM',\n",
       " 'EDUCM',\n",
       " 'WHITEM',\n",
       " 'BLACKM',\n",
       " 'HISPM',\n",
       " 'OTHRACEM',\n",
       " 'HOURSWM',\n",
       " 'INCOMEM',\n",
       " 'WORKEDD',\n",
       " 'FAMINC',\n",
       " 'LOGFAMINC',\n",
       " 'NONMOMIL']"
      ]
     },
     "execution_count": 3,
     "metadata": {},
     "output_type": "execute_result"
    }
   ],
   "source": [
    "df.columns.tolist()"
   ]
  },
  {
   "cell_type": "code",
   "execution_count": 4,
   "metadata": {},
   "outputs": [
    {
     "data": {
      "text/plain": [
       "AGED            34.360296\n",
       "AGEFSTD         25.000435\n",
       "EDUCD           13.054301\n",
       "WHITED           0.869210\n",
       "BLACKD           0.075820\n",
       "HISPD            0.024600\n",
       "OTHRACED         0.030369\n",
       "W                0.281661\n",
       "WEEKSM          21.902403\n",
       "WEEKSD          47.399563\n",
       "HOURSWD         42.905771\n",
       "INCOMED      38530.128479\n",
       "WORKEDM          0.586507\n",
       "AGEM            31.698706\n",
       "AGEFSTM         22.081516\n",
       "EDUCM           12.544946\n",
       "WHITEM           0.868488\n",
       "BLACKM           0.073332\n",
       "HISPM            0.024178\n",
       "OTHRACEM         0.034002\n",
       "HOURSWM         19.346770\n",
       "INCOMEM       7970.357195\n",
       "WORKEDD          0.971596\n",
       "FAMINC       49859.283007\n",
       "LOGFAMINC       10.632850\n",
       "NONMOMIL        10.350465\n",
       "dtype: float64"
      ]
     },
     "execution_count": 4,
     "metadata": {},
     "output_type": "execute_result"
    }
   ],
   "source": [
    "df.mean()"
   ]
  },
  {
   "cell_type": "code",
   "execution_count": 5,
   "metadata": {},
   "outputs": [
    {
     "data": {
      "text/plain": [
       "AGED             7.151865\n",
       "AGEFSTD          5.586369\n",
       "EDUCD            3.212943\n",
       "WHITED           0.337170\n",
       "BLACKD           0.264711\n",
       "HISPD            0.154903\n",
       "OTHRACED         0.171601\n",
       "W                0.449809\n",
       "WEEKSM          22.391010\n",
       "WEEKSD          11.307519\n",
       "HOURSWD         12.586895\n",
       "INCOMED      26680.757924\n",
       "WORKEDM          0.492460\n",
       "AGEM             6.070489\n",
       "AGEFSTM          4.313315\n",
       "EDUCM            2.563067\n",
       "WHITEM           0.337960\n",
       "BLACKM           0.260681\n",
       "HISPM            0.153602\n",
       "OTHRACEM         0.181234\n",
       "HOURSWM         18.765733\n",
       "INCOMEM      11727.339181\n",
       "WORKEDD          0.166125\n",
       "FAMINC       25578.850416\n",
       "LOGFAMINC        0.950227\n",
       "NONMOMIL         1.289920\n",
       "dtype: float64"
      ]
     },
     "execution_count": 5,
     "metadata": {},
     "output_type": "execute_result"
    }
   ],
   "source": [
    "df.std()"
   ]
  },
  {
   "cell_type": "code",
   "execution_count": 6,
   "metadata": {},
   "outputs": [],
   "source": [
    "def getOLSResult(key,dataFrame,x_variables):\n",
    "    x=dataFrame[x_variables].values\n",
    "    x=np.append(x,np.ones([x.shape[0],1]),axis=1)\n",
    "    y = dataFrame[[key]].values\n",
    "    print(x.shape,y.shape)\n",
    "    results = sm.OLS(y, x).fit()\n",
    "    return results"
   ]
  },
  {
   "cell_type": "code",
   "execution_count": 7,
   "metadata": {},
   "outputs": [
    {
     "name": "stdout",
     "output_type": "stream",
     "text": [
      "(762843, 15) (762843, 1)\n",
      "                            OLS Regression Results                            \n",
      "==============================================================================\n",
      "Dep. Variable:                      y   R-squared:                       0.044\n",
      "Model:                            OLS   Adj. R-squared:                  0.044\n",
      "Method:                 Least Squares   F-statistic:                     2940.\n",
      "Date:                Tue, 23 Apr 2019   Prob (F-statistic):               0.00\n",
      "Time:                        16:42:18   Log-Likelihood:            -3.4366e+06\n",
      "No. Observations:              762843   AIC:                         6.873e+06\n",
      "Df Residuals:                  762830   BIC:                         6.873e+06\n",
      "Df Model:                          12                                         \n",
      "Covariance Type:            nonrobust                                         \n",
      "==============================================================================\n",
      "                 coef    std err          t      P>|t|      [0.025      0.975]\n",
      "------------------------------------------------------------------------------\n",
      "x1             0.3714      0.045      8.193      0.000       0.283       0.460\n",
      "x2            -0.4381      0.046     -9.627      0.000      -0.527      -0.349\n",
      "x3             1.4168      0.013    110.397      0.000       1.392       1.442\n",
      "x4             0.3120      0.148      2.109      0.035       0.022       0.602\n",
      "x5             4.1553      0.297     13.977      0.000       3.573       4.738\n",
      "x6             1.0626      0.253      4.202      0.000       0.567       1.558\n",
      "x7             2.3081      0.190     12.133      0.000       1.935       2.681\n",
      "x8             0.2391      0.045      5.280      0.000       0.150       0.328\n",
      "x9            -0.3643      0.045     -8.036      0.000      -0.453      -0.275\n",
      "x10           -0.4721      0.010    -46.997      0.000      -0.492      -0.452\n",
      "x11            0.1229      0.148      0.832      0.406      -0.167       0.412\n",
      "x12            4.9322      0.293     16.840      0.000       4.358       5.506\n",
      "x13            0.3448      0.251      1.376      0.169      -0.146       0.836\n",
      "x14            2.4382      0.198     12.302      0.000       2.050       2.827\n",
      "const          7.8381      0.123     63.825      0.000       7.597       8.079\n",
      "==============================================================================\n",
      "Omnibus:                    10194.565   Durbin-Watson:                   1.925\n",
      "Prob(Omnibus):                  0.000   Jarque-Bera (JB):            85007.972\n",
      "Skew:                           0.289   Prob(JB):                         0.00\n",
      "Kurtosis:                       1.470   Cond. No.                     1.04e+17\n",
      "==============================================================================\n",
      "\n",
      "Warnings:\n",
      "[1] Standard Errors assume that the covariance matrix of the errors is correctly specified.\n",
      "[2] The smallest eigenvalue is 2.62e-25. This might indicate that there are\n",
      "strong multicollinearity problems or that the design matrix is singular.\n"
     ]
    }
   ],
   "source": [
    "results = getOLSResult('WEEKSM',df,['AGEM','AGEFSTM','EDUCM','WHITEM','BLACKM','HISPM','OTHRACEM','AGED','AGEFSTD','EDUCD','WHITED','BLACKD','HISPD','OTHRACED'])\n",
    "print(results.summary())"
   ]
  },
  {
   "cell_type": "code",
   "execution_count": 8,
   "metadata": {},
   "outputs": [
    {
     "name": "stdout",
     "output_type": "stream",
     "text": [
      "(762843, 15) (762843, 1)\n",
      "                            OLS Regression Results                            \n",
      "==============================================================================\n",
      "Dep. Variable:                      y   R-squared:                       0.037\n",
      "Model:                            OLS   Adj. R-squared:                  0.037\n",
      "Method:                 Least Squares   F-statistic:                     2452.\n",
      "Date:                Tue, 23 Apr 2019   Prob (F-statistic):               0.00\n",
      "Time:                        16:42:19   Log-Likelihood:            -3.3047e+06\n",
      "No. Observations:              762843   AIC:                         6.609e+06\n",
      "Df Residuals:                  762830   BIC:                         6.610e+06\n",
      "Df Model:                          12                                         \n",
      "Covariance Type:            nonrobust                                         \n",
      "==============================================================================\n",
      "                 coef    std err          t      P>|t|      [0.025      0.975]\n",
      "------------------------------------------------------------------------------\n",
      "x1             0.1648      0.038      4.322      0.000       0.090       0.240\n",
      "x2            -0.4213      0.038    -11.007      0.000      -0.496      -0.346\n",
      "x3             1.0898      0.011    100.951      0.000       1.069       1.111\n",
      "x4             1.6568      0.124     13.314      0.000       1.413       1.901\n",
      "x5             4.7819      0.250     19.122      0.000       4.292       5.272\n",
      "x6             3.1683      0.213     14.893      0.000       2.751       3.585\n",
      "x7             4.6165      0.160     28.848      0.000       4.303       4.930\n",
      "x8             0.1076      0.038      2.824      0.005       0.033       0.182\n",
      "x9            -0.2164      0.038     -5.675      0.000      -0.291      -0.142\n",
      "x10           -0.5296      0.008    -62.670      0.000      -0.546      -0.513\n",
      "x11            1.6996      0.124     13.674      0.000       1.456       1.943\n",
      "x12            6.3514      0.246     25.779      0.000       5.868       6.834\n",
      "x13            2.2681      0.211     10.759      0.000       1.855       2.681\n",
      "x14            3.9044      0.167     23.420      0.000       3.578       4.231\n",
      "const         14.2234      0.103    137.686      0.000      14.021      14.426\n",
      "==============================================================================\n",
      "Omnibus:                   173876.527   Durbin-Watson:                   1.913\n",
      "Prob(Omnibus):                  0.000   Jarque-Bera (JB):            41944.783\n",
      "Skew:                           0.294   Prob(JB):                         0.00\n",
      "Kurtosis:                       2.013   Cond. No.                     1.04e+17\n",
      "==============================================================================\n",
      "\n",
      "Warnings:\n",
      "[1] Standard Errors assume that the covariance matrix of the errors is correctly specified.\n",
      "[2] The smallest eigenvalue is 2.62e-25. This might indicate that there are\n",
      "strong multicollinearity problems or that the design matrix is singular.\n"
     ]
    }
   ],
   "source": [
    "results = getOLSResult('HOURSWM',df,['AGEM','AGEFSTM','EDUCM','WHITEM','BLACKM','HISPM','OTHRACEM','AGED','AGEFSTD','EDUCD','WHITED','BLACKD','HISPD','OTHRACED'])\n",
    "print(results.summary())"
   ]
  },
  {
   "cell_type": "code",
   "execution_count": 9,
   "metadata": {},
   "outputs": [
    {
     "name": "stdout",
     "output_type": "stream",
     "text": [
      "(762843, 15) (762843, 1)\n",
      "                            OLS Regression Results                            \n",
      "==============================================================================\n",
      "Dep. Variable:                      y   R-squared:                       0.034\n",
      "Model:                            OLS   Adj. R-squared:                  0.034\n",
      "Method:                 Least Squares   F-statistic:                     2250.\n",
      "Date:                Tue, 23 Apr 2019   Prob (F-statistic):               0.00\n",
      "Time:                        16:42:20   Log-Likelihood:            -5.2880e+05\n",
      "No. Observations:              762843   AIC:                         1.058e+06\n",
      "Df Residuals:                  762830   BIC:                         1.058e+06\n",
      "Df Model:                          12                                         \n",
      "Covariance Type:            nonrobust                                         \n",
      "==============================================================================\n",
      "                 coef    std err          t      P>|t|      [0.025      0.975]\n",
      "------------------------------------------------------------------------------\n",
      "x1             0.0040      0.001      4.014      0.000       0.002       0.006\n",
      "x2            -0.0092      0.001     -9.133      0.000      -0.011      -0.007\n",
      "x3             0.0332      0.000    116.917      0.000       0.033       0.034\n",
      "x4             0.0498      0.003     15.241      0.000       0.043       0.056\n",
      "x5             0.1062      0.007     16.157      0.000       0.093       0.119\n",
      "x6             0.0684      0.006     12.238      0.000       0.057       0.079\n",
      "x7             0.0809      0.004     19.239      0.000       0.073       0.089\n",
      "x8             0.0037      0.001      3.675      0.000       0.002       0.006\n",
      "x9            -0.0072      0.001     -7.221      0.000      -0.009      -0.005\n",
      "x10           -0.0086      0.000    -38.743      0.000      -0.009      -0.008\n",
      "x11            0.0434      0.003     13.295      0.000       0.037       0.050\n",
      "x12            0.1368      0.006     21.123      0.000       0.124       0.149\n",
      "x13            0.0527      0.006      9.505      0.000       0.042       0.064\n",
      "x14            0.0725      0.004     16.550      0.000       0.064       0.081\n",
      "const          0.3054      0.003    112.479      0.000       0.300       0.311\n",
      "==============================================================================\n",
      "Omnibus:                    12962.998   Durbin-Watson:                   1.931\n",
      "Prob(Omnibus):                  0.000   Jarque-Bera (JB):           111771.040\n",
      "Skew:                          -0.328   Prob(JB):                         0.00\n",
      "Kurtosis:                       1.243   Cond. No.                     1.04e+17\n",
      "==============================================================================\n",
      "\n",
      "Warnings:\n",
      "[1] Standard Errors assume that the covariance matrix of the errors is correctly specified.\n",
      "[2] The smallest eigenvalue is 2.62e-25. This might indicate that there are\n",
      "strong multicollinearity problems or that the design matrix is singular.\n"
     ]
    }
   ],
   "source": [
    "results = getOLSResult('WORKEDM',df,['AGEM','AGEFSTM','EDUCM','WHITEM','BLACKM','HISPM','OTHRACEM','AGED','AGEFSTD','EDUCD','WHITED','BLACKD','HISPD','OTHRACED'])\n",
    "print(results.summary())"
   ]
  },
  {
   "cell_type": "code",
   "execution_count": 10,
   "metadata": {},
   "outputs": [
    {
     "name": "stdout",
     "output_type": "stream",
     "text": [
      "(762843, 15) (762843, 1)\n",
      "                            OLS Regression Results                            \n",
      "==============================================================================\n",
      "Dep. Variable:                      y   R-squared:                       0.192\n",
      "Model:                            OLS   Adj. R-squared:                  0.192\n",
      "Method:                 Least Squares   F-statistic:                 1.513e+04\n",
      "Date:                Tue, 23 Apr 2019   Prob (F-statistic):               0.00\n",
      "Time:                        16:42:20   Log-Likelihood:            -8.7757e+06\n",
      "No. Observations:              762843   AIC:                         1.755e+07\n",
      "Df Residuals:                  762830   BIC:                         1.755e+07\n",
      "Df Model:                          12                                         \n",
      "Covariance Type:            nonrobust                                         \n",
      "==============================================================================\n",
      "                 coef    std err          t      P>|t|      [0.025      0.975]\n",
      "------------------------------------------------------------------------------\n",
      "x1           576.2245     49.665     11.602      0.000     478.883     673.566\n",
      "x2          -184.6688     49.847     -3.705      0.000    -282.367     -86.971\n",
      "x3           725.4454     14.059     51.602      0.000     697.891     753.000\n",
      "x4         -3045.6824    162.049    -18.795      0.000   -3363.293   -2728.072\n",
      "x5         -6176.5471    325.661    -18.966      0.000   -6814.831   -5538.263\n",
      "x6         -4619.1562    277.045    -16.673      0.000   -5162.155   -4076.158\n",
      "x7         -7299.0241    208.398    -35.024      0.000   -7707.477   -6890.571\n",
      "x8           425.5031     49.611      8.577      0.000     328.268     522.738\n",
      "x9          -199.9847     49.655     -4.028      0.000    -297.306    -102.663\n",
      "x10         2571.8425     11.005    233.699      0.000    2550.273    2593.412\n",
      "x11        -2738.5959    161.856    -16.920      0.000   -3055.828   -2421.364\n",
      "x12        -9617.8261    320.845    -29.977      0.000   -1.02e+04   -8988.980\n",
      "x13        -3829.6481    274.524    -13.950      0.000   -4367.707   -3291.589\n",
      "x14        -4954.3397    217.108    -22.820      0.000   -5379.864   -4528.815\n",
      "const      -2.114e+04    134.528   -157.145      0.000   -2.14e+04   -2.09e+04\n",
      "==============================================================================\n",
      "Omnibus:                   362424.611   Durbin-Watson:                   1.752\n",
      "Prob(Omnibus):                  0.000   Jarque-Bera (JB):          4291166.498\n",
      "Skew:                           1.991   Prob(JB):                         0.00\n",
      "Kurtosis:                      13.916   Cond. No.                     1.04e+17\n",
      "==============================================================================\n",
      "\n",
      "Warnings:\n",
      "[1] Standard Errors assume that the covariance matrix of the errors is correctly specified.\n",
      "[2] The smallest eigenvalue is 2.62e-25. This might indicate that there are\n",
      "strong multicollinearity problems or that the design matrix is singular.\n"
     ]
    }
   ],
   "source": [
    "results = getOLSResult('INCOMED',df,['AGEM','AGEFSTM','EDUCM','WHITEM','BLACKM','HISPM','OTHRACEM','AGED','AGEFSTD','EDUCD','WHITED','BLACKD','HISPD','OTHRACED'])\n",
    "print(results.summary())"
   ]
  },
  {
   "cell_type": "code",
   "execution_count": 11,
   "metadata": {},
   "outputs": [
    {
     "name": "stdout",
     "output_type": "stream",
     "text": [
      "(762843, 15) (762843, 1)\n",
      "                            OLS Regression Results                            \n",
      "==============================================================================\n",
      "Dep. Variable:                      y   R-squared:                       0.043\n",
      "Model:                            OLS   Adj. R-squared:                  0.043\n",
      "Method:                 Least Squares   F-statistic:                     2856.\n",
      "Date:                Tue, 23 Apr 2019   Prob (F-statistic):               0.00\n",
      "Time:                        16:42:22   Log-Likelihood:            -2.9159e+06\n",
      "No. Observations:              762843   AIC:                         5.832e+06\n",
      "Df Residuals:                  762830   BIC:                         5.832e+06\n",
      "Df Model:                          12                                         \n",
      "Covariance Type:            nonrobust                                         \n",
      "==============================================================================\n",
      "                 coef    std err          t      P>|t|      [0.025      0.975]\n",
      "------------------------------------------------------------------------------\n",
      "x1             0.1412      0.023      6.163      0.000       0.096       0.186\n",
      "x2             0.0021      0.023      0.090      0.928      -0.043       0.047\n",
      "x3             0.2167      0.006     33.417      0.000       0.204       0.229\n",
      "x4             7.2087      0.075     96.434      0.000       7.062       7.355\n",
      "x5             6.2071      0.150     41.318      0.000       5.913       6.502\n",
      "x6             6.1219      0.128     47.903      0.000       5.871       6.372\n",
      "x7             5.8607      0.096     60.964      0.000       5.672       6.049\n",
      "x8            -0.0870      0.023     -3.801      0.000      -0.132      -0.042\n",
      "x9            -0.0993      0.023     -4.334      0.000      -0.144      -0.054\n",
      "x10            0.4247      0.005     83.656      0.000       0.415       0.435\n",
      "x11            7.9333      0.075    106.254      0.000       7.787       8.080\n",
      "x12            5.2352      0.148     35.372      0.000       4.945       5.525\n",
      "x13            6.7016      0.127     52.920      0.000       6.453       6.950\n",
      "x14            5.5284      0.100     55.201      0.000       5.332       5.725\n",
      "const         25.3984      0.062    409.275      0.000      25.277      25.520\n",
      "==============================================================================\n",
      "Omnibus:                   448093.933   Durbin-Watson:                   1.935\n",
      "Prob(Omnibus):                  0.000   Jarque-Bera (JB):          3210778.939\n",
      "Skew:                          -2.881   Prob(JB):                         0.00\n",
      "Kurtosis:                      11.235   Cond. No.                     1.04e+17\n",
      "==============================================================================\n",
      "\n",
      "Warnings:\n",
      "[1] Standard Errors assume that the covariance matrix of the errors is correctly specified.\n",
      "[2] The smallest eigenvalue is 2.62e-25. This might indicate that there are\n",
      "strong multicollinearity problems or that the design matrix is singular.\n"
     ]
    }
   ],
   "source": [
    "results = getOLSResult('WEEKSD',df,['AGEM','AGEFSTM','EDUCM','WHITEM','BLACKM','HISPM','OTHRACEM','AGED','AGEFSTD','EDUCD','WHITED','BLACKD','HISPD','OTHRACED'])\n",
    "print(results.summary())"
   ]
  },
  {
   "cell_type": "code",
   "execution_count": 12,
   "metadata": {},
   "outputs": [
    {
     "name": "stdout",
     "output_type": "stream",
     "text": [
      "(762843, 15) (762843, 1)\n",
      "                            OLS Regression Results                            \n",
      "==============================================================================\n",
      "Dep. Variable:                      y   R-squared:                       0.034\n",
      "Model:                            OLS   Adj. R-squared:                  0.034\n",
      "Method:                 Least Squares   F-statistic:                     2220.\n",
      "Date:                Tue, 23 Apr 2019   Prob (F-statistic):               0.00\n",
      "Time:                        16:42:25   Log-Likelihood:            -3.0014e+06\n",
      "No. Observations:              762843   AIC:                         6.003e+06\n",
      "Df Residuals:                  762830   BIC:                         6.003e+06\n",
      "Df Model:                          12                                         \n",
      "Covariance Type:            nonrobust                                         \n",
      "==============================================================================\n",
      "                 coef    std err          t      P>|t|      [0.025      0.975]\n",
      "------------------------------------------------------------------------------\n",
      "x1             0.1060      0.026      4.137      0.000       0.056       0.156\n",
      "x2            -0.0707      0.026     -2.749      0.006      -0.121      -0.020\n",
      "x3             0.2673      0.007     36.851      0.000       0.253       0.282\n",
      "x4             7.2623      0.084     86.857      0.000       7.098       7.426\n",
      "x5             4.6797      0.168     27.851      0.000       4.350       5.009\n",
      "x6             6.2921      0.143     44.017      0.000       6.012       6.572\n",
      "x7             6.1924      0.108     57.590      0.000       5.982       6.403\n",
      "x8            -0.0933      0.026     -3.647      0.000      -0.144      -0.043\n",
      "x9            -0.0819      0.026     -3.198      0.001      -0.132      -0.032\n",
      "x10            0.3074      0.006     54.133      0.000       0.296       0.319\n",
      "x11            7.8822      0.084     94.384      0.000       7.719       8.046\n",
      "x12            5.2036      0.166     31.433      0.000       4.879       5.528\n",
      "x13            5.7412      0.142     40.532      0.000       5.464       6.019\n",
      "x14            5.5995      0.112     49.987      0.000       5.380       5.819\n",
      "const         24.4265      0.069    351.907      0.000      24.290      24.563\n",
      "==============================================================================\n",
      "Omnibus:                    91635.039   Durbin-Watson:                   1.933\n",
      "Prob(Omnibus):                  0.000   Jarque-Bera (JB):           855600.385\n",
      "Skew:                          -0.220   Prob(JB):                         0.00\n",
      "Kurtosis:                       8.170   Cond. No.                     1.04e+17\n",
      "==============================================================================\n",
      "\n",
      "Warnings:\n",
      "[1] Standard Errors assume that the covariance matrix of the errors is correctly specified.\n",
      "[2] The smallest eigenvalue is 2.62e-25. This might indicate that there are\n",
      "strong multicollinearity problems or that the design matrix is singular.\n"
     ]
    }
   ],
   "source": [
    "results = getOLSResult('HOURSWD',df,['AGEM','AGEFSTM','EDUCM','WHITEM','BLACKM','HISPM','OTHRACEM','AGED','AGEFSTD','EDUCD','WHITED','BLACKD','HISPD','OTHRACED'])\n",
    "print(results.summary())"
   ]
  },
  {
   "cell_type": "code",
   "execution_count": 13,
   "metadata": {},
   "outputs": [
    {
     "name": "stdout",
     "output_type": "stream",
     "text": [
      "(762843, 15) (762843, 1)\n",
      "                            OLS Regression Results                            \n",
      "==============================================================================\n",
      "Dep. Variable:                      y   R-squared:                       0.029\n",
      "Model:                            OLS   Adj. R-squared:                  0.029\n",
      "Method:                 Least Squares   F-statistic:                     1874.\n",
      "Date:                Tue, 23 Apr 2019   Prob (F-statistic):               0.00\n",
      "Time:                        16:42:25   Log-Likelihood:             2.9797e+05\n",
      "No. Observations:              762843   AIC:                        -5.959e+05\n",
      "Df Residuals:                  762830   BIC:                        -5.958e+05\n",
      "Df Model:                          12                                         \n",
      "Covariance Type:            nonrobust                                         \n",
      "==============================================================================\n",
      "                 coef    std err          t      P>|t|      [0.025      0.975]\n",
      "------------------------------------------------------------------------------\n",
      "x1             0.0014      0.000      4.150      0.000       0.001       0.002\n",
      "x2            -0.0003      0.000     -0.927      0.354      -0.001       0.000\n",
      "x3             0.0029    9.6e-05     30.395      0.000       0.003       0.003\n",
      "x4             0.1649      0.001    149.013      0.000       0.163       0.167\n",
      "x5             0.1535      0.002     69.040      0.000       0.149       0.158\n",
      "x6             0.1534      0.002     81.113      0.000       0.150       0.157\n",
      "x7             0.1507      0.001    105.884      0.000       0.148       0.153\n",
      "x8            -0.0023      0.000     -6.812      0.000      -0.003      -0.002\n",
      "x9            -0.0012      0.000     -3.626      0.000      -0.002      -0.001\n",
      "x10            0.0041   7.51e-05     54.089      0.000       0.004       0.004\n",
      "x11            0.1718      0.001    155.502      0.000       0.170       0.174\n",
      "x12            0.1413      0.002     64.506      0.000       0.137       0.146\n",
      "x13            0.1617      0.002     86.258      0.000       0.158       0.165\n",
      "x14            0.1476      0.001     99.600      0.000       0.145       0.151\n",
      "const          0.6225      0.001    677.698      0.000       0.621       0.624\n",
      "==============================================================================\n",
      "Omnibus:                   784020.333   Durbin-Watson:                   1.970\n",
      "Prob(Omnibus):                  0.000   Jarque-Bera (JB):         30044180.914\n",
      "Skew:                          -5.450   Prob(JB):                         0.00\n",
      "Kurtosis:                      31.748   Cond. No.                     1.04e+17\n",
      "==============================================================================\n",
      "\n",
      "Warnings:\n",
      "[1] Standard Errors assume that the covariance matrix of the errors is correctly specified.\n",
      "[2] The smallest eigenvalue is 2.62e-25. This might indicate that there are\n",
      "strong multicollinearity problems or that the design matrix is singular.\n"
     ]
    }
   ],
   "source": [
    "results = getOLSResult('WORKEDD',df,['AGEM','AGEFSTM','EDUCM','WHITEM','BLACKM','HISPM','OTHRACEM','AGED','AGEFSTD','EDUCD','WHITED','BLACKD','HISPD','OTHRACED'])\n",
    "print(results.summary())"
   ]
  },
  {
   "cell_type": "code",
   "execution_count": 14,
   "metadata": {},
   "outputs": [
    {
     "name": "stdout",
     "output_type": "stream",
     "text": [
      "(762843, 15) (762843, 1)\n",
      "                            OLS Regression Results                            \n",
      "==============================================================================\n",
      "Dep. Variable:                      y   R-squared:                       0.192\n",
      "Model:                            OLS   Adj. R-squared:                  0.192\n",
      "Method:                 Least Squares   F-statistic:                 1.513e+04\n",
      "Date:                Tue, 23 Apr 2019   Prob (F-statistic):               0.00\n",
      "Time:                        16:42:26   Log-Likelihood:            -8.7757e+06\n",
      "No. Observations:              762843   AIC:                         1.755e+07\n",
      "Df Residuals:                  762830   BIC:                         1.755e+07\n",
      "Df Model:                          12                                         \n",
      "Covariance Type:            nonrobust                                         \n",
      "==============================================================================\n",
      "                 coef    std err          t      P>|t|      [0.025      0.975]\n",
      "------------------------------------------------------------------------------\n",
      "x1           576.2245     49.665     11.602      0.000     478.883     673.566\n",
      "x2          -184.6688     49.847     -3.705      0.000    -282.367     -86.971\n",
      "x3           725.4454     14.059     51.602      0.000     697.891     753.000\n",
      "x4         -3045.6824    162.049    -18.795      0.000   -3363.293   -2728.072\n",
      "x5         -6176.5471    325.661    -18.966      0.000   -6814.831   -5538.263\n",
      "x6         -4619.1562    277.045    -16.673      0.000   -5162.155   -4076.158\n",
      "x7         -7299.0241    208.398    -35.024      0.000   -7707.477   -6890.571\n",
      "x8           425.5031     49.611      8.577      0.000     328.268     522.738\n",
      "x9          -199.9847     49.655     -4.028      0.000    -297.306    -102.663\n",
      "x10         2571.8425     11.005    233.699      0.000    2550.273    2593.412\n",
      "x11        -2738.5959    161.856    -16.920      0.000   -3055.828   -2421.364\n",
      "x12        -9617.8261    320.845    -29.977      0.000   -1.02e+04   -8988.980\n",
      "x13        -3829.6481    274.524    -13.950      0.000   -4367.707   -3291.589\n",
      "x14        -4954.3397    217.108    -22.820      0.000   -5379.864   -4528.815\n",
      "const      -2.114e+04    134.528   -157.145      0.000   -2.14e+04   -2.09e+04\n",
      "==============================================================================\n",
      "Omnibus:                   362424.611   Durbin-Watson:                   1.752\n",
      "Prob(Omnibus):                  0.000   Jarque-Bera (JB):          4291166.498\n",
      "Skew:                           1.991   Prob(JB):                         0.00\n",
      "Kurtosis:                      13.916   Cond. No.                     1.04e+17\n",
      "==============================================================================\n",
      "\n",
      "Warnings:\n",
      "[1] Standard Errors assume that the covariance matrix of the errors is correctly specified.\n",
      "[2] The smallest eigenvalue is 2.62e-25. This might indicate that there are\n",
      "strong multicollinearity problems or that the design matrix is singular.\n"
     ]
    }
   ],
   "source": [
    "results = getOLSResult('INCOMED',df,['AGEM','AGEFSTM','EDUCM','WHITEM','BLACKM','HISPM','OTHRACEM','AGED','AGEFSTD','EDUCD','WHITED','BLACKD','HISPD','OTHRACED'])\n",
    "print(results.summary())"
   ]
  },
  {
   "cell_type": "code",
   "execution_count": 19,
   "metadata": {},
   "outputs": [
    {
     "name": "stdout",
     "output_type": "stream",
     "text": [
      "(762843, 15) (762843, 1)\n",
      "                            OLS Regression Results                            \n",
      "==============================================================================\n",
      "Dep. Variable:                      y   R-squared:                       0.000\n",
      "Model:                            OLS   Adj. R-squared:                  0.000\n",
      "Method:                 Least Squares   F-statistic:                     1.590\n",
      "Date:                Tue, 23 Apr 2019   Prob (F-statistic):             0.0867\n",
      "Time:                        16:45:22   Log-Likelihood:            -1.0435e+06\n",
      "No. Observations:              762843   AIC:                         2.087e+06\n",
      "Df Residuals:                  762830   BIC:                         2.087e+06\n",
      "Df Model:                          12                                         \n",
      "Covariance Type:            nonrobust                                         \n",
      "==============================================================================\n",
      "                 coef    std err          t      P>|t|      [0.025      0.975]\n",
      "------------------------------------------------------------------------------\n",
      "x1            -0.0038      0.002     -1.951      0.051      -0.008    1.85e-05\n",
      "x2             0.0036      0.002      1.828      0.068      -0.000       0.007\n",
      "x3            -0.0006      0.001     -1.153      0.249      -0.002       0.000\n",
      "x4             1.7833      0.006    277.712      0.000       1.771       1.796\n",
      "x5             1.7693      0.013    137.107      0.000       1.744       1.795\n",
      "x6             1.7558      0.011    159.940      0.000       1.734       1.777\n",
      "x7             1.7881      0.008    216.531      0.000       1.772       1.804\n",
      "x8             0.0039      0.002      1.978      0.048    3.46e-05       0.008\n",
      "x9            -0.0039      0.002     -1.990      0.047      -0.008   -5.95e-05\n",
      "x10        -4.021e-05      0.000     -0.092      0.927      -0.001       0.001\n",
      "x11            1.7686      0.006    275.761      0.000       1.756       1.781\n",
      "x12            1.7755      0.013    139.654      0.000       1.751       1.800\n",
      "x13            1.7970      0.011    165.189      0.000       1.776       1.818\n",
      "x14            1.7554      0.009    204.041      0.000       1.739       1.772\n",
      "const          7.0965      0.005   1331.236      0.000       7.086       7.107\n",
      "==============================================================================\n",
      "Omnibus:                   984753.376   Durbin-Watson:                   1.857\n",
      "Prob(Omnibus):                  0.000   Jarque-Bera (JB):        189366844.248\n",
      "Skew:                          -7.281   Prob(JB):                         0.00\n",
      "Kurtosis:                      78.800   Cond. No.                     1.04e+17\n",
      "==============================================================================\n",
      "\n",
      "Warnings:\n",
      "[1] Standard Errors assume that the covariance matrix of the errors is correctly specified.\n",
      "[2] The smallest eigenvalue is 2.62e-25. This might indicate that there are\n",
      "strong multicollinearity problems or that the design matrix is singular.\n"
     ]
    }
   ],
   "source": [
    "results = getOLSResult('LOGFAMINC',df,['AGEM','AGEFSTM','EDUCM','WHITEM','BLACKM','HISPM','OTHRACEM','AGED','AGEFSTD','EDUCD','WHITED','BLACKD','HISPD','OTHRACED'])\n",
    "print(results.summary())"
   ]
  },
  {
   "cell_type": "code",
   "execution_count": 24,
   "metadata": {},
   "outputs": [
    {
     "name": "stdout",
     "output_type": "stream",
     "text": [
      "(762843, 15) (762843, 1)\n",
      "                            OLS Regression Results                            \n",
      "==============================================================================\n",
      "Dep. Variable:                      y   R-squared:                       0.000\n",
      "Model:                            OLS   Adj. R-squared:                  0.000\n",
      "Method:                 Least Squares   F-statistic:                     2.291\n",
      "Date:                Tue, 23 Apr 2019   Prob (F-statistic):            0.00657\n",
      "Time:                        16:53:57   Log-Likelihood:            -1.2039e+06\n",
      "No. Observations:              762843   AIC:                         2.408e+06\n",
      "Df Residuals:                  762830   BIC:                         2.408e+06\n",
      "Df Model:                          12                                         \n",
      "Covariance Type:            nonrobust                                         \n",
      "==============================================================================\n",
      "                 coef    std err          t      P>|t|      [0.025      0.975]\n",
      "------------------------------------------------------------------------------\n",
      "x1            -0.0019      0.002     -0.790      0.430      -0.007       0.003\n",
      "x2             0.0017      0.002      0.691      0.489      -0.003       0.006\n",
      "x3            -0.0010      0.001     -1.422      0.155      -0.002       0.000\n",
      "x4             1.7457      0.008    220.300      0.000       1.730       1.761\n",
      "x5             1.7318      0.016    108.749      0.000       1.701       1.763\n",
      "x6             1.7224      0.014    127.137      0.000       1.696       1.749\n",
      "x7             1.7473      0.010    171.463      0.000       1.727       1.767\n",
      "x8             0.0017      0.002      0.720      0.471      -0.003       0.007\n",
      "x9            -0.0022      0.002     -0.886      0.376      -0.007       0.003\n",
      "x10            0.0005      0.001      0.924      0.355      -0.001       0.002\n",
      "x11            1.7371      0.008    219.477      0.000       1.722       1.753\n",
      "x12            1.7337      0.016    110.507      0.000       1.703       1.764\n",
      "x13            1.7591      0.013    131.039      0.000       1.733       1.785\n",
      "x14            1.7172      0.011    161.749      0.000       1.696       1.738\n",
      "const          6.9471      0.007   1056.063      0.000       6.934       6.960\n",
      "==============================================================================\n",
      "Omnibus:                   897535.999   Durbin-Watson:                   1.878\n",
      "Prob(Omnibus):                  0.000   Jarque-Bera (JB):         92065845.442\n",
      "Skew:                          -6.380   Prob(JB):                         0.00\n",
      "Kurtosis:                      55.285   Cond. No.                     1.04e+17\n",
      "==============================================================================\n",
      "\n",
      "Warnings:\n",
      "[1] Standard Errors assume that the covariance matrix of the errors is correctly specified.\n",
      "[2] The smallest eigenvalue is 2.62e-25. This might indicate that there are\n",
      "strong multicollinearity problems or that the design matrix is singular.\n"
     ]
    }
   ],
   "source": [
    "results = getOLSResult('NONMOMIL',df,['AGEM','AGEFSTM','EDUCM','WHITEM','BLACKM','HISPM','OTHRACEM','AGED','AGEFSTD','EDUCD','WHITED','BLACKD','HISPD','OTHRACED'])\n",
    "print(results.summary())"
   ]
  },
  {
   "cell_type": "code",
   "execution_count": null,
   "metadata": {},
   "outputs": [],
   "source": []
  }
 ],
 "metadata": {
  "kernelspec": {
   "display_name": "Python 3",
   "language": "python",
   "name": "python3"
  },
  "language_info": {
   "codemirror_mode": {
    "name": "ipython",
    "version": 3
   },
   "file_extension": ".py",
   "mimetype": "text/x-python",
   "name": "python",
   "nbconvert_exporter": "python",
   "pygments_lexer": "ipython3",
   "version": "3.6.5"
  }
 },
 "nbformat": 4,
 "nbformat_minor": 2
}
