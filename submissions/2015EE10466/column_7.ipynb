{
 "cells": [
  {
   "cell_type": "code",
   "execution_count": 1,
   "metadata": {},
   "outputs": [],
   "source": [
    "import pyreadstat\n",
    "import pandas as pd\n",
    "import numpy as np"
   ]
  },
  {
   "cell_type": "markdown",
   "metadata": {},
   "source": [
    "# Reading Data"
   ]
  },
  {
   "cell_type": "code",
   "execution_count": 9,
   "metadata": {},
   "outputs": [
    {
     "name": "stdout",
     "output_type": "stream",
     "text": [
      "  AGEM AGED  YOBM QTRBTHM  AGEQK SEXK SEX2ND RACED  KIDCOUNT ASEX  ... QTRMAR  \\\n",
      "0   36   39  44.0       1   38.0    1      0    01       2.0    0  ...      1   \n",
      "1   37   39  42.0       2   34.0    1           01       1.0    0  ...      4   \n",
      "2   27   35  52.0       2   36.0    0      1    01       2.0    0  ...      1   \n",
      "3   25       54.0       3   23.0    0      1             2.0    0  ...      3   \n",
      "4   30   28  49.0       4   44.0    1      0    01       2.0    0  ...      3   \n",
      "\n",
      "  AGEMAR  YOBK QTRBTHD  QTRBKID WEEKSD HOURSD INCOME1D INCOME2D  FAMINC  \n",
      "0     25  70.0       2        3     52     40    28005    00000   33385  \n",
      "1     14  71.0       1        3     52     72    00000    10005   16460  \n",
      "2     17  71.0       1        1     16     48    00000    16005   16005  \n",
      "3     18  74.0                2                                   10310  \n",
      "4     18  69.0       1        1     32     40    09925    00000   20640  \n",
      "\n",
      "[5 rows x 27 columns]\n",
      "(927267, 27)\n"
     ]
    }
   ],
   "source": [
    "df, meta = pyreadstat.read_sav(\"m_d_806.sav\")\n",
    "columns = [\"AGEM\",\"AGED\",\"YOBM\",\"QTRBTHM\",\"AGEQK\",\"SEXK\",\"SEX2ND\",\"RACED\",\"KIDCOUNT\",\"ASEX\",\"AAGE\",\"AQTRBRTH\",\"ASEX2ND\",\"AAGE2ND\",\"AGEQ2ND\",\n",
    "\t\"TIMESMAR\",\"MARITAL\",\"QTRMAR\",\"AGEMAR\",\"YOBK\",\"QTRBTHD\",\"QTRBKID\",\"WEEKSD\",\"HOURSD\",\"INCOME1D\",\n",
    "          \"INCOME2D\",\"FAMINC\"]\n",
    "df = df[columns]\n",
    "print(df.head())\n",
    "print(df.shape)"
   ]
  },
  {
   "cell_type": "code",
   "execution_count": 10,
   "metadata": {},
   "outputs": [
    {
     "name": "stdout",
     "output_type": "stream",
     "text": [
      "(655169, 27)\n"
     ]
    }
   ],
   "source": [
    "df.replace(\" \", float(\"NaN\"),inplace= True)\n",
    "df.replace(\"NA\", float(\"NaN\"),inplace= True)\n",
    "df = df.dropna()\n",
    "print(df.shape)"
   ]
  },
  {
   "cell_type": "code",
   "execution_count": 11,
   "metadata": {},
   "outputs": [
    {
     "name": "stdout",
     "output_type": "stream",
     "text": [
      "(561459, 27)\n"
     ]
    }
   ],
   "source": [
    "df.AGED  = pd.to_numeric(df.AGED , errors='coerce', downcast='integer')\n",
    "df=df.dropna()\n",
    "print(df.shape)"
   ]
  },
  {
   "cell_type": "code",
   "execution_count": 12,
   "metadata": {},
   "outputs": [
    {
     "name": "stdout",
     "output_type": "stream",
     "text": [
      "(498180, 27) TIMESMAR\n"
     ]
    }
   ],
   "source": [
    "df.TIMESMAR  = pd.to_numeric(df.TIMESMAR , errors='coerce', downcast='integer')\n",
    "df=df.dropna()\n",
    "#print(df[\"ASEX\"]==0)\n",
    "df = df[df[\"TIMESMAR\"]==1]\n",
    "print(df.shape,\"TIMESMAR\")"
   ]
  },
  {
   "cell_type": "code",
   "execution_count": 13,
   "metadata": {},
   "outputs": [
    {
     "name": "stdout",
     "output_type": "stream",
     "text": [
      "(498180, 27) MARITAL\n"
     ]
    }
   ],
   "source": [
    "df.MARITAL  = pd.to_numeric(df.MARITAL , errors='coerce', downcast='integer')\n",
    "df=df.dropna()\n",
    "#print(df[\"ASEX\"]==0)\n",
    "df = df[df[\"MARITAL\"]==0]\n",
    "print(df.shape,\"MARITAL\")"
   ]
  },
  {
   "cell_type": "code",
   "execution_count": 14,
   "metadata": {},
   "outputs": [
    {
     "name": "stdout",
     "output_type": "stream",
     "text": [
      "(498180, 27) QTRBTHM\n"
     ]
    }
   ],
   "source": [
    "df.QTRBTHM  = pd.to_numeric(df.QTRBTHM , errors='coerce', downcast='integer')\n",
    "df=df.dropna()\n",
    "print(df.shape,\"QTRBTHM\")"
   ]
  },
  {
   "cell_type": "code",
   "execution_count": 15,
   "metadata": {},
   "outputs": [
    {
     "name": "stdout",
     "output_type": "stream",
     "text": [
      "(498180, 27) QTRBKID\n"
     ]
    }
   ],
   "source": [
    "df.QTRBKID  = pd.to_numeric(df.QTRBKID , errors='coerce', downcast='integer')\n",
    "df=df.dropna()\n",
    "print(df.shape,\"QTRBKID\")"
   ]
  },
  {
   "cell_type": "code",
   "execution_count": 16,
   "metadata": {},
   "outputs": [
    {
     "name": "stdout",
     "output_type": "stream",
     "text": [
      "(498180, 27) YOBM\n"
     ]
    }
   ],
   "source": [
    "df.YOBM  = pd.to_numeric(df.YOBM , errors='coerce', downcast='integer')\n",
    "df=df.dropna()\n",
    "print(df.shape,\"YOBM\")"
   ]
  },
  {
   "cell_type": "code",
   "execution_count": 17,
   "metadata": {},
   "outputs": [
    {
     "name": "stdout",
     "output_type": "stream",
     "text": [
      "(498180, 27) YOBK\n"
     ]
    }
   ],
   "source": [
    "df.YOBK  = pd.to_numeric(df.YOBK , errors='coerce', downcast='integer')\n",
    "df=df.dropna()\n",
    "print(df.shape,\"YOBK\")"
   ]
  },
  {
   "cell_type": "code",
   "execution_count": 18,
   "metadata": {},
   "outputs": [
    {
     "name": "stdout",
     "output_type": "stream",
     "text": [
      "(498180, 27) AGEMAR\n"
     ]
    }
   ],
   "source": [
    "df.AGEMAR  = pd.to_numeric(df.AGEMAR , errors='coerce', downcast='integer')\n",
    "df=df.dropna()\n",
    "print(df.shape,\"AGEMAR\")"
   ]
  },
  {
   "cell_type": "code",
   "execution_count": 19,
   "metadata": {},
   "outputs": [
    {
     "name": "stdout",
     "output_type": "stream",
     "text": [
      "(498180, 27) QTRMAR\n"
     ]
    }
   ],
   "source": [
    "df.QTRMAR  = pd.to_numeric(df.TIMESMAR , errors='coerce', downcast='integer')\n",
    "df=df.dropna()\n",
    "#print(df[\"ASEX\"]==0)\n",
    "df = df[df[\"QTRMAR\"]>0]\n",
    "print(df.shape,\"QTRMAR\")\n",
    "df[\"yom\"] = np.where(df[\"QTRBTHM\"]<=df[\"QTRMAR\"], df[\"YOBM\"]+df[\"AGEMAR\"],df[\"YOBM\"]+df[\"AGEMAR\"]+1)\n",
    "df[\"dom_q\"] = df[\"yom\"]+(df[\"QTRMAR\"]/4)\n",
    "df[\"do1b_q\"] = df[\"YOBK\"] + (df[\"QTRBKID\"]/4)\n",
    "df[\"illegit\"] = np.where(df[\"dom_q\"] > df[\"do1b_q\"], 1, 0)\n"
   ]
  },
  {
   "cell_type": "code",
   "execution_count": 20,
   "metadata": {},
   "outputs": [
    {
     "name": "stdout",
     "output_type": "stream",
     "text": [
      "(451674, 31) illegit\n"
     ]
    }
   ],
   "source": [
    "df = df[df[\"illegit\"]==0]\n",
    "print(df.shape,\"illegit\")\n"
   ]
  },
  {
   "cell_type": "code",
   "execution_count": 22,
   "metadata": {},
   "outputs": [
    {
     "name": "stdout",
     "output_type": "stream",
     "text": [
      "(451674, 31) AGEQK\n",
      "(441523, 32) agefstm\n"
     ]
    }
   ],
   "source": [
    "df.AGEQK  = pd.to_numeric(df.AGEQK , errors='coerce', downcast='integer')\n",
    "df=df.dropna()\n",
    "print(df.shape,\"AGEQK\")\n",
    "\n",
    "df['agefstm'] = (((4*(80-df[\"YOBM\"]))-df[\"QTRBTHM\"] -1)-df[\"AGEQK\"])/4\n",
    "df = df[df[\"agefstm\"]>15]\n",
    "df.agefstm  = pd.to_numeric(df.agefstm , errors='coerce', downcast='integer')\n",
    "df=df.dropna()\n",
    "print(df.shape,\"agefstm\")"
   ]
  },
  {
   "cell_type": "code",
   "execution_count": 23,
   "metadata": {},
   "outputs": [
    {
     "name": "stdout",
     "output_type": "stream",
     "text": [
      "(441523, 32) QTRBTHD\n"
     ]
    }
   ],
   "source": [
    "df.QTRBTHD  = pd.to_numeric(df.QTRBTHD , errors='coerce', downcast='integer')\n",
    "df=df.dropna()\n",
    "print(df.shape,\"QTRBTHD\")"
   ]
  },
  {
   "cell_type": "code",
   "execution_count": 24,
   "metadata": {},
   "outputs": [
    {
     "name": "stdout",
     "output_type": "stream",
     "text": [
      "(441523, 33) YOBD\n"
     ]
    }
   ],
   "source": [
    "df[\"YOBD\"] = np.where(df[\"QTRBTHD\"] == 0, 80-df[\"AGED\"], 79-df[\"AGED\"])\n",
    "print(df.shape,\"YOBD\")"
   ]
  },
  {
   "cell_type": "code",
   "execution_count": 25,
   "metadata": {},
   "outputs": [
    {
     "name": "stdout",
     "output_type": "stream",
     "text": [
      "(441337, 34) agefstd\n"
     ]
    }
   ],
   "source": [
    "df['agefstd'] = (((4*(80-df[\"YOBD\"]))-df[\"QTRBTHD\"])-df[\"AGEQK\"])/4\n",
    "df = df[df[\"agefstd\"]>15]\n",
    "df.agefstd  = pd.to_numeric(df.agefstd , errors='coerce', downcast='integer')\n",
    "df=df.dropna()\n",
    "print(df.shape,\"agefstd\")"
   ]
  },
  {
   "cell_type": "code",
   "execution_count": 26,
   "metadata": {},
   "outputs": [],
   "source": [
    "df['blackd'] = (df[\"RACED\"]==2)\n",
    "df['hispd'] = (df[\"RACED\"]==12)\n",
    "df['whited'] = (df[\"RACED\"]==1)\n",
    "df['othraced'] = 1 -df['blackd']-df['hispd']-df['whited']"
   ]
  },
  {
   "cell_type": "code",
   "execution_count": 27,
   "metadata": {},
   "outputs": [
    {
     "name": "stdout",
     "output_type": "stream",
     "text": [
      "(441337, 40)\n"
     ]
    }
   ],
   "source": [
    "df[\"boy1st\"] = (df[\"SEXK\"]==0)\n",
    "df[\"boy2nd\"] = (df[\"SEX2ND\"]==0)\n",
    "print(df.shape)"
   ]
  },
  {
   "cell_type": "code",
   "execution_count": 28,
   "metadata": {},
   "outputs": [
    {
     "name": "stdout",
     "output_type": "stream",
     "text": [
      "(441337, 40) WEEKSD\n"
     ]
    }
   ],
   "source": [
    "df.WEEKSD  = pd.to_numeric(df.WEEKSD , errors='coerce', downcast='integer')\n",
    "df=df.dropna()\n",
    "print(df.shape,\"WEEKSD\")\n",
    "df[\"workedd\"] = (df[\"WEEKSD\"]>0)"
   ]
  },
  {
   "cell_type": "code",
   "execution_count": 29,
   "metadata": {},
   "outputs": [
    {
     "name": "stdout",
     "output_type": "stream",
     "text": [
      "(441337, 41) HOURSD\n"
     ]
    }
   ],
   "source": [
    "df.HOURSD  = pd.to_numeric(df.HOURSD , errors='coerce', downcast='integer')\n",
    "df=df.dropna()\n",
    "print(df.shape,\"HOURSD\")"
   ]
  },
  {
   "cell_type": "code",
   "execution_count": 30,
   "metadata": {},
   "outputs": [
    {
     "name": "stdout",
     "output_type": "stream",
     "text": [
      "(441337, 41) INCOME1D\n"
     ]
    }
   ],
   "source": [
    "df.INCOME1D  = pd.to_numeric(df.INCOME1D , errors='coerce', downcast='integer')\n",
    "df=df.dropna()\n",
    "print(df.shape,\"INCOME1D\")"
   ]
  },
  {
   "cell_type": "code",
   "execution_count": 31,
   "metadata": {},
   "outputs": [
    {
     "name": "stdout",
     "output_type": "stream",
     "text": [
      "(441337, 41) INCOME2D\n"
     ]
    }
   ],
   "source": [
    "df.INCOME2D  = pd.to_numeric(df.INCOME2D , errors='coerce', downcast='integer')\n",
    "df=df.dropna()\n",
    "print(df.shape,\"INCOME2D\")"
   ]
  },
  {
   "cell_type": "code",
   "execution_count": 34,
   "metadata": {},
   "outputs": [
    {
     "name": "stdout",
     "output_type": "stream",
     "text": [
      "(441337, 42) incomed\n"
     ]
    }
   ],
   "source": [
    "df[\"incomed\"] = df[\"INCOME1D\"] + np.where(df[\"INCOME2D\"]>0,df[\"INCOME2D\"],0)\n",
    "df[\"incomed\"] =  df[\"incomed\"]*2.099173554\n",
    "print(df.shape,\"incomed\")"
   ]
  },
  {
   "cell_type": "code",
   "execution_count": 35,
   "metadata": {},
   "outputs": [
    {
     "name": "stdout",
     "output_type": "stream",
     "text": [
      "(441337, 42) FAMINC\n"
     ]
    }
   ],
   "source": [
    "df.FAMINC  = pd.to_numeric(df.FAMINC , errors='coerce', downcast='integer')\n",
    "df=df.dropna()\n",
    "print(df.shape,\"FAMINC\")"
   ]
  },
  {
   "cell_type": "code",
   "execution_count": 36,
   "metadata": {},
   "outputs": [
    {
     "name": "stdout",
     "output_type": "stream",
     "text": [
      "(441337, 42) FAMINC\n"
     ]
    }
   ],
   "source": [
    "df[\"FAMINC\"] =  df[\"FAMINC\"]*2.099173554\n",
    "df[\"FAMINC\"]= np.where(df[\"FAMINC\"]>1,df[\"FAMINC\"],1)\n",
    "df[\"FAMINC\"] = np.log(df[\"FAMINC\"])\n",
    "print(df.shape,\"FAMINC\")"
   ]
  },
  {
   "cell_type": "code",
   "execution_count": 37,
   "metadata": {},
   "outputs": [],
   "source": [
    "df[\"morekids\"] = (df[\"KIDCOUNT\"]>2)"
   ]
  },
  {
   "cell_type": "code",
   "execution_count": 56,
   "metadata": {},
   "outputs": [
    {
     "name": "stdout",
     "output_type": "stream",
     "text": [
      "(441337, 8)\n",
      "(441337, 1)\n"
     ]
    }
   ],
   "source": [
    "X_cols = [\"morekids\",\"AGED\",\"agefstd\", \"boy1st\",\"boy2nd\", \"blackd\", \"hispd\", \"othraced\"]\n",
    "Y_cols = [\"incomed\"]\n",
    "X = df[X_cols]\n",
    "X = np.array(X)\n",
    "print(X.shape)\n",
    "Y = df[Y_cols]\n",
    "Y = np.array(Y)\n",
    "print(Y.shape)"
   ]
  },
  {
   "cell_type": "markdown",
   "metadata": {},
   "source": [
    "# Splitting data into training and testing"
   ]
  },
  {
   "cell_type": "code",
   "execution_count": 57,
   "metadata": {},
   "outputs": [],
   "source": [
    "from sklearn.model_selection import train_test_split\n",
    "x_train, x_test, y_train, y_test = train_test_split(X, Y, test_size=0.33, random_state=42)"
   ]
  },
  {
   "cell_type": "markdown",
   "metadata": {},
   "source": [
    "# Training Decision tree"
   ]
  },
  {
   "cell_type": "code",
   "execution_count": 58,
   "metadata": {},
   "outputs": [
    {
     "data": {
      "text/plain": [
       "DecisionTreeRegressor(criterion='mse', max_depth=None, max_features=None,\n",
       "           max_leaf_nodes=None, min_impurity_decrease=0.0,\n",
       "           min_impurity_split=None, min_samples_leaf=1,\n",
       "           min_samples_split=2, min_weight_fraction_leaf=0.0,\n",
       "           presort=False, random_state=None, splitter='best')"
      ]
     },
     "execution_count": 58,
     "metadata": {},
     "output_type": "execute_result"
    }
   ],
   "source": [
    "from sklearn.tree import DecisionTreeRegressor,DecisionTreeClassifier\n",
    "from sklearn.model_selection import cross_val_score\n",
    "model = DecisionTreeRegressor()\n",
    "\n",
    "t =cross_val_score(model,x_train, y_train, cv=10)\n",
    "model.fit(x_train,y_train)\n"
   ]
  },
  {
   "cell_type": "markdown",
   "metadata": {},
   "source": [
    "# Below cell saves decision tree image in .png format"
   ]
  },
  {
   "cell_type": "code",
   "execution_count": null,
   "metadata": {},
   "outputs": [],
   "source": [
    "from sklearn import tree\n",
    "from IPython.display import SVG\n",
    "from graphviz import Source\n",
    "graph = Source( tree.export_graphviz(model, out_file=None, feature_names=X_cols))\n",
    "png_bytes = graph.pipe(format='png')\n",
    "with open('./husbands_married_women/annual_labour_income.png','wb') as f:\n",
    "    f.write(png_bytes)\n",
    "\n",
    "from IPython.display import Image\n",
    "Image(png_bytes)"
   ]
  },
  {
   "cell_type": "markdown",
   "metadata": {},
   "source": [
    "# Trainging Linear regressing model"
   ]
  },
  {
   "cell_type": "code",
   "execution_count": 60,
   "metadata": {},
   "outputs": [
    {
     "data": {
      "text/plain": [
       "LinearRegression(copy_X=True, fit_intercept=True, n_jobs=None,\n",
       "         normalize=False)"
      ]
     },
     "execution_count": 60,
     "metadata": {},
     "output_type": "execute_result"
    }
   ],
   "source": [
    "from sklearn.linear_model import LinearRegression\n",
    "reg = LinearRegression()\n",
    "reg.fit(x_train,y_train)"
   ]
  },
  {
   "cell_type": "markdown",
   "metadata": {},
   "source": [
    "# OLS Estimate"
   ]
  },
  {
   "cell_type": "code",
   "execution_count": 61,
   "metadata": {},
   "outputs": [
    {
     "name": "stdout",
     "output_type": "stream",
     "text": [
      "OLS Estimate: -1368.6797077526708\n"
     ]
    }
   ],
   "source": [
    "print(\"OLS Estimate:\",reg.coef_[0][0])"
   ]
  },
  {
   "cell_type": "code",
   "execution_count": null,
   "metadata": {},
   "outputs": [],
   "source": []
  }
 ],
 "metadata": {
  "kernelspec": {
   "display_name": "Python 3",
   "language": "python",
   "name": "python3"
  },
  "language_info": {
   "codemirror_mode": {
    "name": "ipython",
    "version": 3
   },
   "file_extension": ".py",
   "mimetype": "text/x-python",
   "name": "python",
   "nbconvert_exporter": "python",
   "pygments_lexer": "ipython3",
   "version": "3.6.7"
  }
 },
 "nbformat": 4,
 "nbformat_minor": 2
}
